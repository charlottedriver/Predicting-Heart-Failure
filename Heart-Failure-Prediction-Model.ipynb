{
 "cells": [
  {
   "cell_type": "code",
   "execution_count": 58,
   "id": "23f18de1",
   "metadata": {},
   "outputs": [],
   "source": [
    "# Predicting Mortality by Heart Failure"
   ]
  },
  {
   "cell_type": "markdown",
   "id": "5fc7128b",
   "metadata": {},
   "source": [
    "## Import Libraries"
   ]
  },
  {
   "cell_type": "code",
   "execution_count": 59,
   "id": "7b8e9374",
   "metadata": {},
   "outputs": [],
   "source": [
    "import pandas as pd\n",
    "import numpy as np\n",
    "from collections import Counter\n",
    "from sklearn.model_selection import train_test_split\n",
    "from sklearn.compose import ColumnTransformer\n",
    "from sklearn.preprocessing import StandardScaler, LabelEncoder\n",
    "from sklearn.metrics import classification_report\n",
    "from tensorflow.keras.utils import to_categorical\n",
    "from tensorflow.keras.models import Sequential\n",
    "from tensorflow.keras.layers import InputLayer, Dense"
   ]
  },
  {
   "cell_type": "markdown",
   "id": "bef75a70",
   "metadata": {},
   "source": [
    "## Import Data"
   ]
  },
  {
   "cell_type": "code",
   "execution_count": 60,
   "id": "761efbd4",
   "metadata": {},
   "outputs": [
    {
     "data": {
      "text/html": [
       "<div>\n",
       "<style scoped>\n",
       "    .dataframe tbody tr th:only-of-type {\n",
       "        vertical-align: middle;\n",
       "    }\n",
       "\n",
       "    .dataframe tbody tr th {\n",
       "        vertical-align: top;\n",
       "    }\n",
       "\n",
       "    .dataframe thead th {\n",
       "        text-align: right;\n",
       "    }\n",
       "</style>\n",
       "<table border=\"1\" class=\"dataframe\">\n",
       "  <thead>\n",
       "    <tr style=\"text-align: right;\">\n",
       "      <th></th>\n",
       "      <th>age</th>\n",
       "      <th>anaemia</th>\n",
       "      <th>creatinine_phosphokinase</th>\n",
       "      <th>diabetes</th>\n",
       "      <th>ejection_fraction</th>\n",
       "      <th>high_blood_pressure</th>\n",
       "      <th>platelets</th>\n",
       "      <th>serum_creatinine</th>\n",
       "      <th>serum_sodium</th>\n",
       "      <th>sex</th>\n",
       "      <th>smoking</th>\n",
       "      <th>time</th>\n",
       "      <th>DEATH_EVENT</th>\n",
       "    </tr>\n",
       "  </thead>\n",
       "  <tbody>\n",
       "    <tr>\n",
       "      <th>0</th>\n",
       "      <td>75.0</td>\n",
       "      <td>0</td>\n",
       "      <td>582</td>\n",
       "      <td>0</td>\n",
       "      <td>20</td>\n",
       "      <td>1</td>\n",
       "      <td>265000.00</td>\n",
       "      <td>1.9</td>\n",
       "      <td>130</td>\n",
       "      <td>1</td>\n",
       "      <td>0</td>\n",
       "      <td>4</td>\n",
       "      <td>1</td>\n",
       "    </tr>\n",
       "    <tr>\n",
       "      <th>1</th>\n",
       "      <td>55.0</td>\n",
       "      <td>0</td>\n",
       "      <td>7861</td>\n",
       "      <td>0</td>\n",
       "      <td>38</td>\n",
       "      <td>0</td>\n",
       "      <td>263358.03</td>\n",
       "      <td>1.1</td>\n",
       "      <td>136</td>\n",
       "      <td>1</td>\n",
       "      <td>0</td>\n",
       "      <td>6</td>\n",
       "      <td>1</td>\n",
       "    </tr>\n",
       "    <tr>\n",
       "      <th>2</th>\n",
       "      <td>65.0</td>\n",
       "      <td>0</td>\n",
       "      <td>146</td>\n",
       "      <td>0</td>\n",
       "      <td>20</td>\n",
       "      <td>0</td>\n",
       "      <td>162000.00</td>\n",
       "      <td>1.3</td>\n",
       "      <td>129</td>\n",
       "      <td>1</td>\n",
       "      <td>1</td>\n",
       "      <td>7</td>\n",
       "      <td>1</td>\n",
       "    </tr>\n",
       "    <tr>\n",
       "      <th>3</th>\n",
       "      <td>50.0</td>\n",
       "      <td>1</td>\n",
       "      <td>111</td>\n",
       "      <td>0</td>\n",
       "      <td>20</td>\n",
       "      <td>0</td>\n",
       "      <td>210000.00</td>\n",
       "      <td>1.9</td>\n",
       "      <td>137</td>\n",
       "      <td>1</td>\n",
       "      <td>0</td>\n",
       "      <td>7</td>\n",
       "      <td>1</td>\n",
       "    </tr>\n",
       "    <tr>\n",
       "      <th>4</th>\n",
       "      <td>65.0</td>\n",
       "      <td>1</td>\n",
       "      <td>160</td>\n",
       "      <td>1</td>\n",
       "      <td>20</td>\n",
       "      <td>0</td>\n",
       "      <td>327000.00</td>\n",
       "      <td>2.7</td>\n",
       "      <td>116</td>\n",
       "      <td>0</td>\n",
       "      <td>0</td>\n",
       "      <td>8</td>\n",
       "      <td>1</td>\n",
       "    </tr>\n",
       "  </tbody>\n",
       "</table>\n",
       "</div>"
      ],
      "text/plain": [
       "    age  anaemia  creatinine_phosphokinase  diabetes  ejection_fraction  \\\n",
       "0  75.0        0                       582         0                 20   \n",
       "1  55.0        0                      7861         0                 38   \n",
       "2  65.0        0                       146         0                 20   \n",
       "3  50.0        1                       111         0                 20   \n",
       "4  65.0        1                       160         1                 20   \n",
       "\n",
       "   high_blood_pressure  platelets  serum_creatinine  serum_sodium  sex  \\\n",
       "0                    1  265000.00               1.9           130    1   \n",
       "1                    0  263358.03               1.1           136    1   \n",
       "2                    0  162000.00               1.3           129    1   \n",
       "3                    0  210000.00               1.9           137    1   \n",
       "4                    0  327000.00               2.7           116    0   \n",
       "\n",
       "   smoking  time  DEATH_EVENT  \n",
       "0        0     4            1  \n",
       "1        0     6            1  \n",
       "2        1     7            1  \n",
       "3        0     7            1  \n",
       "4        0     8            1  "
      ]
     },
     "execution_count": 60,
     "metadata": {},
     "output_type": "execute_result"
    }
   ],
   "source": [
    "data = pd.read_csv('heart_failure_clinical_records_dataset.csv')\n",
    "data.head()"
   ]
  },
  {
   "cell_type": "markdown",
   "id": "f2924063",
   "metadata": {},
   "source": [
    "## Inspect Data"
   ]
  },
  {
   "cell_type": "code",
   "execution_count": 61,
   "id": "75181e3d",
   "metadata": {},
   "outputs": [
    {
     "name": "stdout",
     "output_type": "stream",
     "text": [
      "<class 'pandas.core.frame.DataFrame'>\n",
      "RangeIndex: 299 entries, 0 to 298\n",
      "Data columns (total 13 columns):\n",
      " #   Column                    Non-Null Count  Dtype  \n",
      "---  ------                    --------------  -----  \n",
      " 0   age                       299 non-null    float64\n",
      " 1   anaemia                   299 non-null    int64  \n",
      " 2   creatinine_phosphokinase  299 non-null    int64  \n",
      " 3   diabetes                  299 non-null    int64  \n",
      " 4   ejection_fraction         299 non-null    int64  \n",
      " 5   high_blood_pressure       299 non-null    int64  \n",
      " 6   platelets                 299 non-null    float64\n",
      " 7   serum_creatinine          299 non-null    float64\n",
      " 8   serum_sodium              299 non-null    int64  \n",
      " 9   sex                       299 non-null    int64  \n",
      " 10  smoking                   299 non-null    int64  \n",
      " 11  time                      299 non-null    int64  \n",
      " 12  DEATH_EVENT               299 non-null    int64  \n",
      "dtypes: float64(3), int64(10)\n",
      "memory usage: 30.5 KB\n"
     ]
    }
   ],
   "source": [
    "data.info()"
   ]
  },
  {
   "cell_type": "code",
   "execution_count": 62,
   "id": "9d149e7d",
   "metadata": {},
   "outputs": [
    {
     "data": {
      "text/plain": [
       "Counter({0: 203, 1: 96})"
      ]
     },
     "execution_count": 62,
     "metadata": {},
     "output_type": "execute_result"
    }
   ],
   "source": [
    "# Distribution of DEATH_EVENT\n",
    "Counter(data['DEATH_EVENT'])"
   ]
  },
  {
   "cell_type": "markdown",
   "id": "25b99282",
   "metadata": {},
   "source": [
    "## Extract Features"
   ]
  },
  {
   "cell_type": "code",
   "execution_count": 63,
   "id": "1d9d5e52",
   "metadata": {},
   "outputs": [],
   "source": [
    "# y\n",
    "y = data['DEATH_EVENT']\n",
    "\n",
    "# x\n",
    "x_features = []\n",
    "\n",
    "for i in data.columns:\n",
    "    if i != 'DEATH_EVENT':\n",
    "        x_features.append(i)\n",
    "\n",
    "x = data[x_features]"
   ]
  },
  {
   "cell_type": "code",
   "execution_count": 64,
   "id": "a644fdd1",
   "metadata": {},
   "outputs": [],
   "source": [
    "x = pd.get_dummies(x)"
   ]
  },
  {
   "cell_type": "code",
   "execution_count": 65,
   "id": "a4ddf0d5",
   "metadata": {},
   "outputs": [],
   "source": [
    "# Split x and y in training and testing sets\n",
    "X_train, X_test, Y_train, Y_test = train_test_split(x, \n",
    "                                                    y, \n",
    "                                                    train_size=0.8,\n",
    "                                                   test_size=0.2,\n",
    "                                                   random_state=40)"
   ]
  },
  {
   "cell_type": "code",
   "execution_count": 66,
   "id": "8a7af270",
   "metadata": {},
   "outputs": [],
   "source": [
    "# Standardise x variables\n",
    "\n",
    "\n",
    "ct = ColumnTransformer([('numeric', StandardScaler(), ['age',\n",
    "                                                     'creatinine_phosphokinase',\n",
    "                                                     'ejection_fraction',\n",
    "                                                     'platelets',\n",
    "                                                     'serum_creatinine',\n",
    "                                                     'serum_sodium',\n",
    "                                                     'time'])])\n",
    "X_train = ct.fit_transform(X_train)\n",
    "X_test = ct.fit_transform(X_test)"
   ]
  },
  {
   "cell_type": "code",
   "execution_count": 67,
   "id": "057ee3f2",
   "metadata": {},
   "outputs": [],
   "source": [
    "# Prepare labels for classification\n",
    "le = LabelEncoder()\n",
    "\n",
    "Y_train = le.fit_transform(Y_train.astype(str))\n",
    "Y_test = le.fit_transform(Y_test.astype(str))\n",
    "\n",
    "Y_train = to_categorical(Y_train)\n",
    "Y_test = to_categorical(Y_test)"
   ]
  },
  {
   "cell_type": "markdown",
   "id": "99d81754",
   "metadata": {},
   "source": [
    "## Model"
   ]
  },
  {
   "cell_type": "markdown",
   "id": "458f4f31",
   "metadata": {},
   "source": [
    "### Design the Model"
   ]
  },
  {
   "cell_type": "code",
   "execution_count": 68,
   "id": "aafcc967",
   "metadata": {},
   "outputs": [],
   "source": [
    "model = Sequential()\n",
    "model.add(InputLayer(input_shape=(X_train.shape[1])))\n",
    "model.add(Dense(12, activation='relu'))\n",
    "model.add(Dense(2, activation='softmax'))\n",
    "model.compile(loss='categorical_crossentropy', optimizer='adam', metrics=['accuracy'])"
   ]
  },
  {
   "cell_type": "markdown",
   "id": "fcf832f5",
   "metadata": {},
   "source": [
    "### Fit the Model"
   ]
  },
  {
   "cell_type": "code",
   "execution_count": 69,
   "id": "a9743a43",
   "metadata": {},
   "outputs": [
    {
     "name": "stdout",
     "output_type": "stream",
     "text": [
      "Epoch 1/100\n",
      "15/15 [==============================] - 0s 430us/step - loss: 0.8285 - accuracy: 0.4310\n",
      "Epoch 2/100\n",
      "15/15 [==============================] - 0s 397us/step - loss: 0.7856 - accuracy: 0.4686\n",
      "Epoch 3/100\n",
      "15/15 [==============================] - 0s 415us/step - loss: 0.7475 - accuracy: 0.5146\n",
      "Epoch 4/100\n",
      "15/15 [==============================] - 0s 384us/step - loss: 0.7140 - accuracy: 0.5732\n",
      "Epoch 5/100\n",
      "15/15 [==============================] - 0s 361us/step - loss: 0.6833 - accuracy: 0.6151\n",
      "Epoch 6/100\n",
      "15/15 [==============================] - 0s 337us/step - loss: 0.6556 - accuracy: 0.6402\n",
      "Epoch 7/100\n",
      "15/15 [==============================] - 0s 327us/step - loss: 0.6296 - accuracy: 0.6527\n",
      "Epoch 8/100\n",
      "15/15 [==============================] - 0s 346us/step - loss: 0.6070 - accuracy: 0.6904\n",
      "Epoch 9/100\n",
      "15/15 [==============================] - 0s 331us/step - loss: 0.5853 - accuracy: 0.7155\n",
      "Epoch 10/100\n",
      "15/15 [==============================] - 0s 323us/step - loss: 0.5663 - accuracy: 0.7322\n",
      "Epoch 11/100\n",
      "15/15 [==============================] - 0s 343us/step - loss: 0.5493 - accuracy: 0.7448\n",
      "Epoch 12/100\n",
      "15/15 [==============================] - 0s 326us/step - loss: 0.5328 - accuracy: 0.7406\n",
      "Epoch 13/100\n",
      "15/15 [==============================] - 0s 327us/step - loss: 0.5188 - accuracy: 0.7490\n",
      "Epoch 14/100\n",
      "15/15 [==============================] - 0s 341us/step - loss: 0.5042 - accuracy: 0.7657\n",
      "Epoch 15/100\n",
      "15/15 [==============================] - 0s 316us/step - loss: 0.4926 - accuracy: 0.7782\n",
      "Epoch 16/100\n",
      "15/15 [==============================] - 0s 297us/step - loss: 0.4814 - accuracy: 0.7824\n",
      "Epoch 17/100\n",
      "15/15 [==============================] - 0s 351us/step - loss: 0.4711 - accuracy: 0.7782\n",
      "Epoch 18/100\n",
      "15/15 [==============================] - 0s 325us/step - loss: 0.4617 - accuracy: 0.7782\n",
      "Epoch 19/100\n",
      "15/15 [==============================] - 0s 319us/step - loss: 0.4534 - accuracy: 0.7824\n",
      "Epoch 20/100\n",
      "15/15 [==============================] - 0s 350us/step - loss: 0.4452 - accuracy: 0.7992\n",
      "Epoch 21/100\n",
      "15/15 [==============================] - 0s 315us/step - loss: 0.4383 - accuracy: 0.7992\n",
      "Epoch 22/100\n",
      "15/15 [==============================] - 0s 320us/step - loss: 0.4318 - accuracy: 0.8075\n",
      "Epoch 23/100\n",
      "15/15 [==============================] - 0s 325us/step - loss: 0.4255 - accuracy: 0.8117\n",
      "Epoch 24/100\n",
      "15/15 [==============================] - 0s 327us/step - loss: 0.4204 - accuracy: 0.8243\n",
      "Epoch 25/100\n",
      "15/15 [==============================] - 0s 313us/step - loss: 0.4152 - accuracy: 0.8326\n",
      "Epoch 26/100\n",
      "15/15 [==============================] - 0s 315us/step - loss: 0.4106 - accuracy: 0.8285\n",
      "Epoch 27/100\n",
      "15/15 [==============================] - 0s 324us/step - loss: 0.4065 - accuracy: 0.8368\n",
      "Epoch 28/100\n",
      "15/15 [==============================] - 0s 347us/step - loss: 0.4027 - accuracy: 0.8368\n",
      "Epoch 29/100\n",
      "15/15 [==============================] - 0s 339us/step - loss: 0.3996 - accuracy: 0.8410\n",
      "Epoch 30/100\n",
      "15/15 [==============================] - 0s 324us/step - loss: 0.3961 - accuracy: 0.8494\n",
      "Epoch 31/100\n",
      "15/15 [==============================] - 0s 331us/step - loss: 0.3929 - accuracy: 0.8494\n",
      "Epoch 32/100\n",
      "15/15 [==============================] - 0s 330us/step - loss: 0.3902 - accuracy: 0.8494\n",
      "Epoch 33/100\n",
      "15/15 [==============================] - 0s 316us/step - loss: 0.3876 - accuracy: 0.8494\n",
      "Epoch 34/100\n",
      "15/15 [==============================] - 0s 345us/step - loss: 0.3856 - accuracy: 0.8494\n",
      "Epoch 35/100\n",
      "15/15 [==============================] - 0s 323us/step - loss: 0.3837 - accuracy: 0.8494\n",
      "Epoch 36/100\n",
      "15/15 [==============================] - 0s 321us/step - loss: 0.3812 - accuracy: 0.8494\n",
      "Epoch 37/100\n",
      "15/15 [==============================] - 0s 338us/step - loss: 0.3793 - accuracy: 0.8494\n",
      "Epoch 38/100\n",
      "15/15 [==============================] - 0s 334us/step - loss: 0.3774 - accuracy: 0.8494\n",
      "Epoch 39/100\n",
      "15/15 [==============================] - 0s 320us/step - loss: 0.3757 - accuracy: 0.8536\n",
      "Epoch 40/100\n",
      "15/15 [==============================] - 0s 336us/step - loss: 0.3751 - accuracy: 0.8536\n",
      "Epoch 41/100\n",
      "15/15 [==============================] - 0s 324us/step - loss: 0.3725 - accuracy: 0.8577\n",
      "Epoch 42/100\n",
      "15/15 [==============================] - 0s 324us/step - loss: 0.3712 - accuracy: 0.8577\n",
      "Epoch 43/100\n",
      "15/15 [==============================] - 0s 321us/step - loss: 0.3700 - accuracy: 0.8577\n",
      "Epoch 44/100\n",
      "15/15 [==============================] - 0s 330us/step - loss: 0.3687 - accuracy: 0.8536\n",
      "Epoch 45/100\n",
      "15/15 [==============================] - 0s 316us/step - loss: 0.3677 - accuracy: 0.8577\n",
      "Epoch 46/100\n",
      "15/15 [==============================] - 0s 339us/step - loss: 0.3665 - accuracy: 0.8494\n",
      "Epoch 47/100\n",
      "15/15 [==============================] - 0s 331us/step - loss: 0.3655 - accuracy: 0.8494\n",
      "Epoch 48/100\n",
      "15/15 [==============================] - 0s 344us/step - loss: 0.3643 - accuracy: 0.8494\n",
      "Epoch 49/100\n",
      "15/15 [==============================] - 0s 317us/step - loss: 0.3631 - accuracy: 0.8494\n",
      "Epoch 50/100\n",
      "15/15 [==============================] - 0s 338us/step - loss: 0.3624 - accuracy: 0.8494\n",
      "Epoch 51/100\n",
      "15/15 [==============================] - 0s 337us/step - loss: 0.3619 - accuracy: 0.8494\n",
      "Epoch 52/100\n",
      "15/15 [==============================] - 0s 344us/step - loss: 0.3604 - accuracy: 0.8452\n",
      "Epoch 53/100\n",
      "15/15 [==============================] - 0s 328us/step - loss: 0.3598 - accuracy: 0.8494\n",
      "Epoch 54/100\n",
      "15/15 [==============================] - 0s 352us/step - loss: 0.3590 - accuracy: 0.8494\n",
      "Epoch 55/100\n",
      "15/15 [==============================] - 0s 336us/step - loss: 0.3578 - accuracy: 0.8494\n",
      "Epoch 56/100\n",
      "15/15 [==============================] - 0s 327us/step - loss: 0.3572 - accuracy: 0.8494\n",
      "Epoch 57/100\n",
      "15/15 [==============================] - 0s 361us/step - loss: 0.3567 - accuracy: 0.8494\n",
      "Epoch 58/100\n",
      "15/15 [==============================] - 0s 333us/step - loss: 0.3555 - accuracy: 0.8536\n",
      "Epoch 59/100\n",
      "15/15 [==============================] - 0s 334us/step - loss: 0.3549 - accuracy: 0.8536\n",
      "Epoch 60/100\n",
      "15/15 [==============================] - 0s 352us/step - loss: 0.3544 - accuracy: 0.8494\n",
      "Epoch 61/100\n",
      "15/15 [==============================] - 0s 315us/step - loss: 0.3536 - accuracy: 0.8536\n",
      "Epoch 62/100\n",
      "15/15 [==============================] - 0s 339us/step - loss: 0.3528 - accuracy: 0.8536\n",
      "Epoch 63/100\n",
      "15/15 [==============================] - 0s 326us/step - loss: 0.3524 - accuracy: 0.8577\n",
      "Epoch 64/100\n",
      "15/15 [==============================] - 0s 336us/step - loss: 0.3514 - accuracy: 0.8577\n",
      "Epoch 65/100\n",
      "15/15 [==============================] - 0s 313us/step - loss: 0.3507 - accuracy: 0.8577\n",
      "Epoch 66/100\n",
      "15/15 [==============================] - 0s 349us/step - loss: 0.3499 - accuracy: 0.8577\n",
      "Epoch 67/100\n",
      "15/15 [==============================] - 0s 342us/step - loss: 0.3496 - accuracy: 0.8577\n",
      "Epoch 68/100\n",
      "15/15 [==============================] - 0s 343us/step - loss: 0.3489 - accuracy: 0.8577\n",
      "Epoch 69/100\n",
      "15/15 [==============================] - 0s 351us/step - loss: 0.3482 - accuracy: 0.8577\n",
      "Epoch 70/100\n",
      "15/15 [==============================] - 0s 314us/step - loss: 0.3474 - accuracy: 0.8577\n",
      "Epoch 71/100\n",
      "15/15 [==============================] - 0s 339us/step - loss: 0.3468 - accuracy: 0.8577\n",
      "Epoch 72/100\n",
      "15/15 [==============================] - 0s 309us/step - loss: 0.3462 - accuracy: 0.8577\n",
      "Epoch 73/100\n",
      "15/15 [==============================] - 0s 299us/step - loss: 0.3454 - accuracy: 0.8577\n",
      "Epoch 74/100\n",
      "15/15 [==============================] - 0s 323us/step - loss: 0.3448 - accuracy: 0.8536\n",
      "Epoch 75/100\n",
      "15/15 [==============================] - 0s 307us/step - loss: 0.3441 - accuracy: 0.8577\n",
      "Epoch 76/100\n",
      "15/15 [==============================] - 0s 309us/step - loss: 0.3438 - accuracy: 0.8577\n",
      "Epoch 77/100\n",
      "15/15 [==============================] - 0s 324us/step - loss: 0.3427 - accuracy: 0.8577\n",
      "Epoch 78/100\n",
      "15/15 [==============================] - 0s 343us/step - loss: 0.3427 - accuracy: 0.8577\n",
      "Epoch 79/100\n",
      "15/15 [==============================] - 0s 313us/step - loss: 0.3418 - accuracy: 0.8577\n",
      "Epoch 80/100\n",
      "15/15 [==============================] - 0s 336us/step - loss: 0.3408 - accuracy: 0.8577\n",
      "Epoch 81/100\n"
     ]
    },
    {
     "name": "stdout",
     "output_type": "stream",
     "text": [
      "15/15 [==============================] - 0s 315us/step - loss: 0.3403 - accuracy: 0.8577\n",
      "Epoch 82/100\n",
      "15/15 [==============================] - 0s 329us/step - loss: 0.3397 - accuracy: 0.8577\n",
      "Epoch 83/100\n",
      "15/15 [==============================] - 0s 338us/step - loss: 0.3391 - accuracy: 0.8577\n",
      "Epoch 84/100\n",
      "15/15 [==============================] - 0s 327us/step - loss: 0.3385 - accuracy: 0.8661\n",
      "Epoch 85/100\n",
      "15/15 [==============================] - 0s 328us/step - loss: 0.3382 - accuracy: 0.8619\n",
      "Epoch 86/100\n",
      "15/15 [==============================] - 0s 323us/step - loss: 0.3370 - accuracy: 0.8661\n",
      "Epoch 87/100\n",
      "15/15 [==============================] - 0s 320us/step - loss: 0.3364 - accuracy: 0.8661\n",
      "Epoch 88/100\n",
      "15/15 [==============================] - 0s 324us/step - loss: 0.3359 - accuracy: 0.8661\n",
      "Epoch 89/100\n",
      "15/15 [==============================] - 0s 321us/step - loss: 0.3353 - accuracy: 0.8661\n",
      "Epoch 90/100\n",
      "15/15 [==============================] - 0s 316us/step - loss: 0.3350 - accuracy: 0.8661\n",
      "Epoch 91/100\n",
      "15/15 [==============================] - 0s 334us/step - loss: 0.3341 - accuracy: 0.8661\n",
      "Epoch 92/100\n",
      "15/15 [==============================] - 0s 338us/step - loss: 0.3335 - accuracy: 0.8661\n",
      "Epoch 93/100\n",
      "15/15 [==============================] - 0s 327us/step - loss: 0.3326 - accuracy: 0.8661\n",
      "Epoch 94/100\n",
      "15/15 [==============================] - 0s 341us/step - loss: 0.3321 - accuracy: 0.8661\n",
      "Epoch 95/100\n",
      "15/15 [==============================] - 0s 326us/step - loss: 0.3316 - accuracy: 0.8703\n",
      "Epoch 96/100\n",
      "15/15 [==============================] - 0s 323us/step - loss: 0.3309 - accuracy: 0.8745\n",
      "Epoch 97/100\n",
      "15/15 [==============================] - 0s 341us/step - loss: 0.3307 - accuracy: 0.8745\n",
      "Epoch 98/100\n",
      "15/15 [==============================] - 0s 329us/step - loss: 0.3298 - accuracy: 0.8745\n",
      "Epoch 99/100\n",
      "15/15 [==============================] - 0s 308us/step - loss: 0.3291 - accuracy: 0.8745\n",
      "Epoch 100/100\n",
      "15/15 [==============================] - 0s 324us/step - loss: 0.3286 - accuracy: 0.8745\n"
     ]
    },
    {
     "data": {
      "text/plain": [
       "<keras.src.callbacks.History at 0x284c872d0>"
      ]
     },
     "execution_count": 69,
     "metadata": {},
     "output_type": "execute_result"
    }
   ],
   "source": [
    "model.fit(X_train, Y_train, epochs=100, batch_size=16)"
   ]
  },
  {
   "cell_type": "markdown",
   "id": "a0d6ed34",
   "metadata": {},
   "source": [
    "### Evaluate the Model"
   ]
  },
  {
   "cell_type": "code",
   "execution_count": 70,
   "id": "33d81ae1",
   "metadata": {},
   "outputs": [
    {
     "name": "stdout",
     "output_type": "stream",
     "text": [
      "Loss: 0.3400396704673767   Accuracy: 0.7833333611488342\n"
     ]
    }
   ],
   "source": [
    "loss, acc = model.evaluate(X_test, Y_test, verbose=0)\n",
    "\n",
    "print(\"Loss:\", loss, \" \", \"Accuracy:\", acc)"
   ]
  },
  {
   "cell_type": "code",
   "execution_count": 71,
   "id": "d84a78f9",
   "metadata": {},
   "outputs": [
    {
     "name": "stdout",
     "output_type": "stream",
     "text": [
      "2/2 [==============================] - 0s 761us/step\n"
     ]
    },
    {
     "data": {
      "text/plain": [
       "'              precision    recall  f1-score   support\\n\\n           0       0.83      0.85      0.84        40\\n           1       0.68      0.65      0.67        20\\n\\n    accuracy                           0.78        60\\n   macro avg       0.76      0.75      0.75        60\\nweighted avg       0.78      0.78      0.78        60\\n'"
      ]
     },
     "execution_count": 71,
     "metadata": {},
     "output_type": "execute_result"
    }
   ],
   "source": [
    "y_estimate = model.predict(X_test)\n",
    "y_estimate = np.argmax(y_estimate, axis=1)\n",
    "y_true = np.argmax(Y_test, axis=1)\n",
    "\n",
    "classification_report(y_true, y_estimate)"
   ]
  }
 ],
 "metadata": {
  "kernelspec": {
   "display_name": "Python 3 (ipykernel)",
   "language": "python",
   "name": "python3"
  },
  "language_info": {
   "codemirror_mode": {
    "name": "ipython",
    "version": 3
   },
   "file_extension": ".py",
   "mimetype": "text/x-python",
   "name": "python",
   "nbconvert_exporter": "python",
   "pygments_lexer": "ipython3",
   "version": "3.11.5"
  }
 },
 "nbformat": 4,
 "nbformat_minor": 5
}
