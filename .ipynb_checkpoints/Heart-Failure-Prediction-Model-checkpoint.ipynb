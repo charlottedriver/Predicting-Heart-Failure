{
 "cells": [
  {
   "cell_type": "code",
   "execution_count": 2,
   "id": "23f18de1",
   "metadata": {},
   "outputs": [],
   "source": [
    "# Predicting Mortality by Heart Failure"
   ]
  },
  {
   "cell_type": "markdown",
   "id": "5fc7128b",
   "metadata": {},
   "source": [
    "## Import Libraries"
   ]
  },
  {
   "cell_type": "code",
   "execution_count": null,
   "id": "7b8e9374",
   "metadata": {},
   "outputs": [],
   "source": [
    "import pandas as pd\n",
    "from collections import Counter\n",
    "from sklearn.model_selection import train_test_split\n",
    "from sklearn.compose import ColumnTransformer\n",
    "from sklearn.preprocessing import StandardScaler, LabelEncoder\n",
    "from tensorflow.keras.utils import to_categorical\n",
    "from tensorflow.keras.models import Sequential\n",
    "from tensorflow.keras.layers import InputLayer, Dense"
   ]
  },
  {
   "cell_type": "markdown",
   "id": "bef75a70",
   "metadata": {},
   "source": [
    "## Import Data"
   ]
  },
  {
   "cell_type": "code",
   "execution_count": null,
   "id": "761efbd4",
   "metadata": {},
   "outputs": [],
   "source": [
    "data = pd.read_csv('heart_failure_clinical_records_dataset.csv')\n",
    "data.head()"
   ]
  },
  {
   "cell_type": "markdown",
   "id": "f2924063",
   "metadata": {},
   "source": [
    "## Inspect Data"
   ]
  },
  {
   "cell_type": "code",
   "execution_count": null,
   "id": "75181e3d",
   "metadata": {},
   "outputs": [],
   "source": [
    "data.info()"
   ]
  },
  {
   "cell_type": "code",
   "execution_count": null,
   "id": "9d149e7d",
   "metadata": {},
   "outputs": [],
   "source": [
    "# Distribution of DEATH_EVENT\n",
    "Counter(data['DEATH_EVENT'])"
   ]
  },
  {
   "cell_type": "markdown",
   "id": "25b99282",
   "metadata": {},
   "source": [
    "## Extract Features"
   ]
  },
  {
   "cell_type": "code",
   "execution_count": null,
   "id": "1d9d5e52",
   "metadata": {},
   "outputs": [],
   "source": [
    "# y\n",
    "y = data['DEATH_EVENT']\n",
    "\n",
    "# x\n",
    "x_features = []\n",
    "\n",
    "for i in data.columns:\n",
    "    if i != 'DEATH_EVENT':\n",
    "        x_features.append(i)\n",
    "\n",
    "x = data[x_features]"
   ]
  },
  {
   "cell_type": "code",
   "execution_count": null,
   "id": "a644fdd1",
   "metadata": {},
   "outputs": [],
   "source": [
    "x = pd.get_dummies(x)"
   ]
  },
  {
   "cell_type": "code",
   "execution_count": null,
   "id": "a4ddf0d5",
   "metadata": {},
   "outputs": [],
   "source": [
    "# Split x and y in training and testing sets\n",
    "X_train, X_test, Y_train, Y_test = train_test_split(x, \n",
    "                                                    y, \n",
    "                                                    train_size=0.8,\n",
    "                                                   test_size=0.2,\n",
    "                                                   random_state=40)"
   ]
  },
  {
   "cell_type": "code",
   "execution_count": null,
   "id": "8a7af270",
   "metadata": {},
   "outputs": [],
   "source": [
    "# Standardise x variables\n",
    "ct = ColumnTransformer([('numeric', StandardScaler(), ['age',\n",
    "                                                     'creatinine_phosphokinase',\n",
    "                                                     'ejection_fraction',\n",
    "                                                     'platelets',\n",
    "                                                     'serum_creatinine',\n",
    "                                                     'serum_sodium',\n",
    "                                                     'time'])])\n",
    "X_train = ct.fit_transform(X_train)\n",
    "X_test = ct.fit_transform(X_test)"
   ]
  },
  {
   "cell_type": "code",
   "execution_count": null,
   "id": "057ee3f2",
   "metadata": {},
   "outputs": [],
   "source": [
    "# Prepare labels for classification\n",
    "le = LabelEncoder()\n",
    "\n",
    "Y_train = le.fit_transform(Y_train.astype(str))\n",
    "Y_test = le.fit_transform(Y_test.astype(str))\n",
    "\n",
    "Y_train = to_categorical(Y_train)\n",
    "Y_test = to_categorical(Y_test)"
   ]
  },
  {
   "cell_type": "markdown",
   "id": "99d81754",
   "metadata": {},
   "source": [
    "## Model"
   ]
  },
  {
   "cell_type": "markdown",
   "id": "458f4f31",
   "metadata": {},
   "source": [
    "### Design the Model"
   ]
  },
  {
   "cell_type": "code",
   "execution_count": null,
   "id": "aafcc967",
   "metadata": {},
   "outputs": [],
   "source": [
    "model = Sequential()\n",
    "model.add(InputLayer(input_shape=(X_train.shape[1])))\n",
    "model.add(Dense(12, activation='relu'))\n",
    "model.add(Dense(6, activation='softmax'))\n",
    "model.compile(loss='categorical_crossentropy', optimizer='adam', metrics=['accuracy'])"
   ]
  },
  {
   "cell_type": "markdown",
   "id": "fcf832f5",
   "metadata": {},
   "source": [
    "### Fit the Model"
   ]
  },
  {
   "cell_type": "code",
   "execution_count": null,
   "id": "a9743a43",
   "metadata": {},
   "outputs": [],
   "source": [
    "model.fit(X_train, Y_train, epochs=100, batch_size=16)"
   ]
  }
 ],
 "metadata": {
  "kernelspec": {
   "display_name": "Python 3 (ipykernel)",
   "language": "python",
   "name": "python3"
  },
  "language_info": {
   "codemirror_mode": {
    "name": "ipython",
    "version": 3
   },
   "file_extension": ".py",
   "mimetype": "text/x-python",
   "name": "python",
   "nbconvert_exporter": "python",
   "pygments_lexer": "ipython3",
   "version": "3.11.5"
  }
 },
 "nbformat": 4,
 "nbformat_minor": 5
}
